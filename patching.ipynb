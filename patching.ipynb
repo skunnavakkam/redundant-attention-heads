{
 "cells": [
  {
   "cell_type": "code",
   "execution_count": 1,
   "metadata": {},
   "outputs": [
    {
     "name": "stderr",
     "output_type": "stream",
     "text": [
      "/usr/local/lib/python3.9/site-packages/transformers/utils/hub.py:127: FutureWarning: Using `TRANSFORMERS_CACHE` is deprecated and will be removed in v5 of Transformers. Use `HF_HOME` instead.\n",
      "  warnings.warn(\n"
     ]
    },
    {
     "data": {
      "application/vnd.jupyter.widget-view+json": {
       "model_id": "f760b14585024deb8f06ca42890b0e2c",
       "version_major": 2,
       "version_minor": 0
      },
      "text/plain": [
       "Downloading shards:   0%|          | 0/4 [00:00<?, ?it/s]"
      ]
     },
     "metadata": {},
     "output_type": "display_data"
    },
    {
     "data": {
      "application/vnd.jupyter.widget-view+json": {
       "model_id": "94c8b281b9804c7b96a1a893ed4ef4ba",
       "version_major": 2,
       "version_minor": 0
      },
      "text/plain": [
       "Loading checkpoint shards:   0%|          | 0/4 [00:00<?, ?it/s]"
      ]
     },
     "metadata": {},
     "output_type": "display_data"
    },
    {
     "name": "stderr",
     "output_type": "stream",
     "text": [
      "WARNING:root:You are not using LayerNorm, so the writing weights can't be centered! Skipping\n"
     ]
    },
    {
     "name": "stdout",
     "output_type": "stream",
     "text": [
      "Loaded pretrained model meta-llama/Meta-Llama-3-8B into HookedTransformer\n"
     ]
    }
   ],
   "source": [
    "from transformer_lens import HookedTransformer\n",
    "import torch\n",
    "import matplotlib.pyplot as plt\n",
    "import os\n",
    "\n",
    "torch.set_grad_enabled(False)\n",
    "model = HookedTransformer.from_pretrained(\"meta-llama/Meta-Llama-3-8B\", device=\"cuda\")"
   ]
  },
  {
   "cell_type": "code",
   "execution_count": 2,
   "metadata": {},
   "outputs": [],
   "source": [
    "A = \"\"\"\n",
    "(28, 59)\n",
    "(86, 175)\n",
    "(13, 29)\n",
    "(37, 77)\n",
    "(55, 113)\n",
    "(84, 171)\n",
    "(66, 135)\n",
    "(85, 173)\n",
    "(27, 57)\n",
    "(15, 33)\n",
    "(94, 191)\n",
    "(37, 77)\n",
    "(14, 31)\n",
    "(42, 87)\n",
    "(55, 113)\n",
    "(60, 123)\n",
    "\"\"\"\n",
    "\n",
    "B = \"\"\"\n",
    "(60, 120)\n",
    "(38, 76)\n",
    "(96, 192)\n",
    "(59, 118)\n",
    "(53, 106)\n",
    "(11, 22)\n",
    "(87, 174)\n",
    "(20, 40)\n",
    "(11, 22)\n",
    "(42, 84)\n",
    "(70, 140)\n",
    "(57, 114)\n",
    "(83, 166)\n",
    "(27, 54)\n",
    "(90, 180)\n",
    "(8, 16)\n",
    "(72, 144)\n",
    "(42, 84)\n",
    "(15, 30)\n",
    "(23, 46)\n",
    "(25, 50)\n",
    "(63, 126)\n",
    "(49, 98)\n",
    "(6, 12)\n",
    "\"\"\"\n",
    "\n",
    "baseline = \"\"\"\n",
    "(20, 71)\n",
    "(40, 34)\n",
    "(33, 10)\n",
    "(63, 45)\n",
    "(17, 63)\n",
    "(5, 40)\n",
    "(86, 56)\n",
    "(45, 71)\n",
    "(100, 57)\n",
    "(16, 62)\n",
    "(13, 98)\n",
    "(42, 35)\n",
    "(23, 65)\n",
    "(35, 33)\n",
    "(6, 70)\n",
    "(25, 99)\n",
    "(27, 40)\n",
    "(81, 45)\n",
    "(71, 19)\n",
    "(49, 5)\n",
    "(19, 86)\n",
    "(56, 15)\n",
    "(88, 16)\n",
    "(37, 31)\n",
    "(3, 54)\n",
    "(33, 96)\n",
    "\"\"\"\n",
    "\n",
    "# we know that these states are about convergent, so I'm not too concerned about actual sequence length\n",
    "# seems possible that this might be bad for publication but idgaf\n",
    "# in an ideal world these should be equal"
   ]
  },
  {
   "cell_type": "code",
   "execution_count": 10,
   "metadata": {},
   "outputs": [
    {
     "name": "stdout",
     "output_type": "stream",
     "text": [
      "1 , ['2', '3', '1', '4', '5']\n",
      "2 , ['4', '3', '5', '2', '6']\n",
      "3 , ['6', '5', '4', '7', '3']\n",
      "4 , ['8', '9', '7', '5', '6']\n",
      "5 , ['10', '11', '9', '5', '7']\n",
      "6 , ['12', '11', '7', '13', '10']\n",
      "7 , ['14', '13', '15', '12', '7']\n",
      "8 , ['16', '12', '15', '17', '10']\n",
      "9 , ['18', '19', '17', '20', '10']\n",
      "10 , ['20', '10', '15', '19', '21']\n",
      "11 , ['22', '21', '23', '12', '11']\n",
      "12 , ['24', '25', '23', '18', '12']\n",
      "13 , ['26', '27', '25', '24', '28']\n",
      "14 , ['28', '29', '30', '27', '26']\n",
      "15 , ['30', '31', '15', '25', '29']\n",
      "16 , ['32', '33', '34', '31', '30']\n",
      "17 , ['34', '33', '35', '36', '32']\n",
      "18 , ['36', '38', '37', '35', '30']\n",
      "19 , ['39', '38', '37', '40', '36']\n",
      "20 , ['40', '30', '39', '41', '20']\n",
      "21 , ['42', '41', '43', '21', '40']\n",
      "22 , ['44', '45', '42', '46', '43']\n",
      "23 , ['47', '46', '48', '45', '49']\n",
      "24 , ['48', '49', '50', '36', '47']\n",
      "25 , ['50', '51', '25', '49', '45']\n",
      "26 , ['52', '51', '50', '53', '54']\n",
      "27 , ['54', '55', '53', '51', '56']\n",
      "28 , ['56', '57', '58', '55', '54']\n",
      "29 , ['59', '58', '57', '60', '61']\n",
      "30 , ['60', '61', '50', '45', '40']\n",
      "31 , ['62', '63', '61', '64', '60']\n",
      "32 , ['64', '65', '33', '66', '32']\n",
      "33 , ['66', '67', '65', '63', '33']\n",
      "34 , ['68', '67', '66', '69', '70']\n",
      "35 , ['70', '65', '35', '45', '75']\n",
      "36 , ['72', '64', '36', '48', '73']\n",
      "37 , ['74', '73', '75', '77', '37']\n",
      "38 , ['76', '77', '78', '38', '75']\n",
      "39 , ['78', '79', '39', '77', '80']\n",
      "40 , ['80', '40', '60', '20', '81']\n",
      "41 , ['82', '81', '83', '41', '84']\n",
      "42 , ['84', '86', '85', '42', '83']\n",
      "43 , ['87', '86', '89', '88', '85']\n",
      "44 , ['88', '89', '90', '44', '77']\n",
      "45 , ['90', '91', '95', '45', '89']\n",
      "46 , ['92', '94', '96', '93', '91']\n",
      "47 , ['95', '97', '94', '96', '98']\n",
      "48 , ['96', '97', '100', '98', '48']\n",
      "49 , ['99', '98', '97', '100', '96']\n",
      "50 , ['100', '50', '75', '99', '101']\n",
      "51 , ['101', '102', '100', '103', '51']\n",
      "52 , ['104', '102', '106', '105', '52']\n",
      "53 , ['107', '106', '105', '108', '104']\n",
      "54 , ['108', '114', '110', '106', '113']\n",
      "55 , ['110', '115', '105', '55', '111']\n",
      "56 , ['112', '114', '113', '116', '120']\n",
      "57 , ['119', '114', '115', '113', '117']\n",
      "58 , ['116', '118', '117', '120', '119']\n",
      "59 , ['119', '118', '120', '117', '121']\n",
      "60 , ['120', '90', '121', '60', '80']\n",
      "61 , ['121', '122', '123', '125', '120']\n",
      "62 , ['124', '126', '125', '122', '128']\n",
      "63 , ['126', '127', '128', '125', '129']\n",
      "64 , ['128', '64', '129', '96', '1']\n",
      "65 , ['130', '129', '131', '135', '132']\n",
      "66 , ['132', '133', '66', '131', '130']\n",
      "67 , ['133', '134', '135', '137', '136']\n",
      "68 , ['136', '138', '137', '135', '140']\n",
      "69 , ['139', '138', '137', '141', '140']\n",
      "70 , ['140', '70', '100', '80', '1']\n",
      "71 , ['141', '142', '143', '1', '144']\n",
      "72 , ['144', '96', '72', '145', '1']\n",
      "73 , ['146', '147', '145', '144', '148']\n",
      "74 , ['148', '150', '149', '146', '147']\n",
      "75 , ['150', '75', '100', '125', '1']\n",
      "76 , ['152', '153', '151', '76', '150']\n",
      "77 , ['154', '77', '153', '155', '143']\n",
      "78 , ['156', '78', '158', '157', '154']\n",
      "79 , ['159', '158', '157', '160', '161']\n",
      "80 , ['160', '100', '80', '120', '40']\n",
      "81 , ['162', '161', '163', '81', '164']\n",
      "82 , ['164', '162', '166', '163', '165']\n",
      "83 , ['167', '166', '165', '168', '169']\n",
      "84 , ['168', '169', '170', '166', '172']\n",
      "85 , ['170', '165', '85', '171', '175']\n",
      "86 , ['172', '174', '171', '170', '173']\n",
      "87 , ['174', '175', '173', '171', '172']\n",
      "88 , ['176', '88', '177', '178', '172']\n",
      "89 , ['179', '178', '181', '180', '177']\n",
      "90 , ['180', '90', '100', '120', '10']\n",
      "91 , ['182', '181', '183', '91', '100']\n",
      "92 , ['184', '182', '92', '96', '2']\n",
      "93 , ['189', '186', '97', '187', '93']\n",
      "94 , ['98', '188', '97', '94', '95']\n",
      "95 , ['95', '190', '100', '195', '99']\n",
      "96 , ['192', '96', '97', '128', '98']\n",
      "97 , ['97', '98', '99', '196', '197']\n",
      "98 , ['196', '98', '99', '198', '100']\n",
      "99 , ['198', '199', '99', '100', '200']\n"
     ]
    }
   ],
   "source": [
    "A_toks = model.to_tokens(A)\n",
    "B_toks = model.to_tokens(B)\n",
    "\n",
    "A_logits, A_activations = model.run_with_cache(A_toks, return_cache_object=False)\n",
    "\n",
    "hook_point = \"blocks.15.hook_resid_pre\"\n",
    "\n",
    "# since B = 2x\n",
    "# A = 2x + 3\n",
    "# we want to ablate B from A.\n",
    "\n",
    "# our last few tokens (for both strings) are as follows:\n",
    "# <space>, <last_integer>, )\n",
    "# as a result we want to take the position -3\n",
    "\n",
    "# A_vec = A_activations[hook_point].squeeze(0)[-4]\n",
    "# B_vec = B_activations[hook_point].squeeze(0)[-4]\n",
    "\n",
    "# # I want to try two things\n",
    "\n",
    "# steering_ablated = A_vec - (torch.dot(A_vec, B_vec) * B_vec)\n",
    "# steering_subtracted = A_vec - B_vec\n",
    "\n",
    "\n",
    "# # I hope that these are somewhat similar? I'm going to use only the first one though\n",
    "# # this is our task vector!\n",
    "\n",
    "# print(torch.linalg.norm(steering_subtracted - steering_ablated))\n",
    "# print(torch.linalg.norm(A_vec - B_vec))\n",
    "\n",
    "# task_vector = steering_subtracted\n",
    "\n",
    "A_vec_4 = A_activations[hook_point].squeeze(0)[-4]\n",
    "\n",
    "A_vec_3 = A_activations[hook_point].squeeze(0)[-3]\n",
    "\n",
    "def patching_hook(resid_post, hook):\n",
    "    # resid_post[:, -4, :] = A_vec_4\n",
    "    resid_post[:, -3, :] = A_vec_3\n",
    "\n",
    "prediction = []\n",
    "for i in range(1, 100): # this is our inference loop\n",
    "    text = f\"({i}, 59)\\n\" # again we just go in on our -3 index at the hook point\n",
    "    tokens = model.to_tokens(text)\n",
    "\n",
    "    patched_logits = model.run_with_hooks(\n",
    "        tokens, fwd_hooks=[(hook_point, patching_hook)]\n",
    "    )\n",
    "\n",
    "    # now what we do is\n",
    "    desired_logits = patched_logits.squeeze(0)[-3]\n",
    "    topk = torch.topk(desired_logits, k=5)\n",
    "\n",
    "    text = model.tokenizer.convert_ids_to_tokens(topk.indices)\n",
    "    try:\n",
    "        int_x = int(text[0])\n",
    "        prediction.append(int_x)\n",
    "    except:\n",
    "        prediction.append(None)\n",
    "        print(f\"{text[0]} is not an integer\")\n",
    "    print(i, \",\", text)"
   ]
  },
  {
   "cell_type": "code",
   "execution_count": null,
   "metadata": {},
   "outputs": [],
   "source": []
  },
  {
   "cell_type": "code",
   "execution_count": 11,
   "metadata": {},
   "outputs": [
    {
     "data": {
      "image/png": "[encoded data removed]",
      "text/plain": [
       "<Figure size 640x480 with 1 Axes>"
      ]
     },
     "metadata": {},
     "output_type": "display_data"
    },
    {
     "data": {
      "image/png": "[encoded data removed]",
      "text/plain": [
       "<Figure size 640x480 with 1 Axes>"
      ]
     },
     "metadata": {},
     "output_type": "display_data"
    },
    {
     "name": "stdout",
     "output_type": "stream",
     "text": [
      "[0, 0, 0, 0, 0, 0, 0, 0, 0, 0, 0, 0, 0, 0, 0, 0, 0, 0, 1, 0, 0, 0, 1, 0, 0, 0, 0, 0, 1, 0, 0, 0, 0, 0, 0, 0, 0, 0, 0, 0, 0, 0, 1, 0, 0, 0, 1, 0, 1, 0, -1, 0, 1, 0, 0, 0, 5, 0, 1, 0, -1, 0, 0, 0, 0, 0, -1, 0, 1, 0, -1, 0, 0, 0, 0, 0, 0, 0, 1, 0, 0, 0, 1, 0, 0, 0, 0, 0, 1, 0, 0, 0, 3, -90, -95, 0, -97, 0, 0]\n"
     ]
    }
   ],
   "source": [
    "\n",
    "pred = [p - 2 * idx - 2 for idx, p in enumerate(prediction)]\n",
    "\n",
    "plt.plot(prediction)\n",
    "plt.show()\n",
    "plt.plot(pred)\n",
    "plt.show()\n",
    "print(pred)"
   ]
  }
 ],
 "metadata": {
  "kernelspec": {
   "display_name": "Python 3 (ipykernel)",
   "language": "python",
   "name": "python3"
  }
 },
 "nbformat": 4,
 "nbformat_minor": 2
}
